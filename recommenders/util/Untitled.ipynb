{
 "cells": [
  {
   "cell_type": "code",
   "execution_count": 1,
   "id": "6f0bad9d",
   "metadata": {},
   "outputs": [],
   "source": [
    "import json\n",
    "import pandas as pd"
   ]
  },
  {
   "cell_type": "code",
   "execution_count": 2,
   "id": "abaac1c6",
   "metadata": {},
   "outputs": [],
   "source": [
    "data = pd.read_csv(\"movie_detail.csv\")"
   ]
  },
  {
   "cell_type": "code",
   "execution_count": 3,
   "id": "e6cc4a70",
   "metadata": {},
   "outputs": [],
   "source": [
    "data = data.title"
   ]
  },
  {
   "cell_type": "code",
   "execution_count": 4,
   "id": "735bdd44",
   "metadata": {},
   "outputs": [],
   "source": [
    "# data.to_csv(\"movie_titles.txt\", index=True, header=False)"
   ]
  },
  {
   "cell_type": "code",
   "execution_count": 5,
   "id": "81aaf665",
   "metadata": {},
   "outputs": [],
   "source": [
    "idx = [1959, 191, 319, 1017, 2261, 732, 906, 476, 232]"
   ]
  },
  {
   "cell_type": "code",
   "execution_count": 6,
   "id": "92ba3f04",
   "metadata": {},
   "outputs": [],
   "source": [
    "res = []\n",
    "for i in idx:\n",
    "    res.append(data.iloc[i])"
   ]
  },
  {
   "cell_type": "code",
   "execution_count": 7,
   "id": "dd6e09a4",
   "metadata": {},
   "outputs": [
    {
     "data": {
      "text/plain": [
       "['Shakespeare in Love (1998)',\n",
       " 'Before Sunrise (1995)',\n",
       " 'Forrest Gump (1994)',\n",
       " 'Dead Poets Society (1989)',\n",
       " 'Color Purple, The (1985)',\n",
       " \"Breakfast at Tiffany's (1961)\",\n",
       " 'Top Gun (1986)',\n",
       " \"Schindler's List (1993)\",\n",
       " 'Little Women (1994)']"
      ]
     },
     "execution_count": 7,
     "metadata": {},
     "output_type": "execute_result"
    }
   ],
   "source": [
    "res"
   ]
  },
  {
   "cell_type": "code",
   "execution_count": null,
   "id": "07162082",
   "metadata": {},
   "outputs": [],
   "source": []
  }
 ],
 "metadata": {
  "kernelspec": {
   "display_name": "Python 3 (ipykernel)",
   "language": "python",
   "name": "python3"
  },
  "language_info": {
   "codemirror_mode": {
    "name": "ipython",
    "version": 3
   },
   "file_extension": ".py",
   "mimetype": "text/x-python",
   "name": "python",
   "nbconvert_exporter": "python",
   "pygments_lexer": "ipython3",
   "version": "3.9.12"
  }
 },
 "nbformat": 4,
 "nbformat_minor": 5
}
